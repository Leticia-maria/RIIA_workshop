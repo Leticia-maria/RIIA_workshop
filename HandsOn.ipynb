{
 "cells": [
  {
   "cell_type": "markdown",
   "metadata": {},
   "source": [
    "# **Julia** workshop"
   ]
  },
  {
   "cell_type": "markdown",
   "metadata": {},
   "source": [
    "![](JuliaLogo.jpeg)"
   ]
  },
  {
   "cell_type": "markdown",
   "metadata": {},
   "source": [
    "# Level of this workshop: **Beginner**\n",
    "\n",
    "### __(You are all welcome to work together and learn)__"
   ]
  },
  {
   "cell_type": "markdown",
   "metadata": {},
   "source": [
    "> ## In this workshop, you will see:\n",
    "\n",
    "- ### a brief background of Julia Language\n",
    "- ### what are the advantages implemented in Julia\n",
    "- ### some applications in chemistry\n",
    "- ### some applications in machine learning\n",
    "- ### a brief and fun hands-on\n",
    "- ### how the julia community works"
   ]
  },
  {
   "cell_type": "markdown",
   "metadata": {},
   "source": [
    "### The objective of this workshop is **not** to make you an expert in Julia, but to inspire you starting applying julia in your projects, studies or research!"
   ]
  },
  {
   "cell_type": "markdown",
   "metadata": {},
   "source": [
    "![](JuliaHistory.png)"
   ]
  },
  {
   "cell_type": "markdown",
   "metadata": {},
   "source": [
    "### Julia language is a compiled programming language released in 2012!"
   ]
  },
  {
   "cell_type": "markdown",
   "metadata": {},
   "source": [
    "### **Curious fact** \n",
    "\n",
    "#### Why the programming language is called Julia?"
   ]
  },
  {
   "cell_type": "markdown",
   "metadata": {},
   "source": []
  },
  {
   "cell_type": "markdown",
   "metadata": {},
   "source": [
    "#### Some good points about Julia"
   ]
  },
  {
   "cell_type": "markdown",
   "metadata": {},
   "source": [
    "![](Paper.png)"
   ]
  },
  {
   "cell_type": "markdown",
   "metadata": {},
   "source": [
    "- ### Speed \n",
    "(why is it important for chemistry ?)"
   ]
  },
  {
   "cell_type": "markdown",
   "metadata": {},
   "source": [
    "#### **Extra topic**: run a benchmarking (Python vs. Julia)"
   ]
  },
  {
   "cell_type": "markdown",
   "metadata": {},
   "source": [
    "- ### Syntax"
   ]
  },
  {
   "cell_type": "markdown",
   "metadata": {},
   "source": [
    "##### 1.2. **Print** method "
   ]
  },
  {
   "cell_type": "code",
   "execution_count": 30,
   "metadata": {},
   "outputs": [
    {
     "name": "stdout",
     "output_type": "stream",
     "text": [
      "Julia is a cool language!"
     ]
    }
   ],
   "source": [
    "print(\"Julia is a cool language!\")"
   ]
  },
  {
   "cell_type": "markdown",
   "metadata": {},
   "source": [
    "### Now it is your **turn to practice**!"
   ]
  },
  {
   "cell_type": "markdown",
   "metadata": {},
   "source": [
    "**Activity 1** : Print your own name."
   ]
  },
  {
   "cell_type": "code",
   "execution_count": 31,
   "metadata": {},
   "outputs": [],
   "source": []
  },
  {
   "cell_type": "markdown",
   "metadata": {},
   "source": [
    "**Activity 2** : Make the computer spell your name with a ```for``` loop."
   ]
  },
  {
   "cell_type": "code",
   "execution_count": 32,
   "metadata": {},
   "outputs": [],
   "source": []
  },
  {
   "cell_type": "markdown",
   "metadata": {},
   "source": [
    "- ### Multiple dispatch"
   ]
  },
  {
   "cell_type": "code",
   "execution_count": 33,
   "metadata": {},
   "outputs": [
    {
     "data": {
      "text/plain": [
       "number (generic function with 3 methods)"
      ]
     },
     "metadata": {},
     "output_type": "display_data"
    }
   ],
   "source": [
    "function number(N::Int64)\n",
    "    print(N)\n",
    "end"
   ]
  },
  {
   "cell_type": "code",
   "execution_count": 34,
   "metadata": {},
   "outputs": [
    {
     "name": "stdout",
     "output_type": "stream",
     "text": [
      "5"
     ]
    }
   ],
   "source": [
    "print(5)"
   ]
  },
  {
   "cell_type": "markdown",
   "metadata": {},
   "source": [
    "> There is support for ```Int16```, ```Int32```, ```Int64```. (The difference is the uage of bits to allocate it). In the data structures in julia, all these types are subtypes of ```Integer```."
   ]
  },
  {
   "cell_type": "code",
   "execution_count": 35,
   "metadata": {},
   "outputs": [
    {
     "data": {
      "text/plain": [
       "number (generic function with 3 methods)"
      ]
     },
     "metadata": {},
     "output_type": "display_data"
    }
   ],
   "source": [
    "function number(N::T) where T <: Integer\n",
    "    print(N)\n",
    "end"
   ]
  },
  {
   "cell_type": "markdown",
   "metadata": {},
   "source": [
    "> For example, let's think about one example that is more reasonable: a ```Molecule``` is a subtype of ```ChemicalSystem```, right? So, let us build it in Julia!"
   ]
  },
  {
   "cell_type": "code",
   "execution_count": 36,
   "metadata": {},
   "outputs": [],
   "source": [
    "abstract type ChemicalSystem end ### this is a supertype."
   ]
  },
  {
   "cell_type": "code",
   "execution_count": 37,
   "metadata": {},
   "outputs": [],
   "source": [
    "struct Molecule <: ChemicalSystem end"
   ]
  },
  {
   "cell_type": "code",
   "execution_count": 38,
   "metadata": {},
   "outputs": [
    {
     "data": {
      "text/plain": [
       "number (generic function with 3 methods)"
      ]
     },
     "metadata": {},
     "output_type": "display_data"
    }
   ],
   "source": [
    "function number(N::Float64)\n",
    "    print(N)\n",
    "end"
   ]
  },
  {
   "cell_type": "code",
   "execution_count": 39,
   "metadata": {},
   "outputs": [
    {
     "name": "stdout",
     "output_type": "stream",
     "text": [
      "5.2"
     ]
    }
   ],
   "source": [
    "number(5.2)"
   ]
  },
  {
   "cell_type": "markdown",
   "metadata": {},
   "source": [
    "### **Practice** an example on REPL! >> Let's do it together!"
   ]
  },
  {
   "cell_type": "markdown",
   "metadata": {},
   "source": [
    "- print ```integer``` if Int; \n",
    "- print ```float``` if Float."
   ]
  },
  {
   "cell_type": "code",
   "execution_count": 40,
   "metadata": {},
   "outputs": [],
   "source": []
  },
  {
   "cell_type": "code",
   "execution_count": 41,
   "metadata": {},
   "outputs": [],
   "source": []
  },
  {
   "cell_type": "code",
   "execution_count": 42,
   "metadata": {},
   "outputs": [],
   "source": []
  },
  {
   "cell_type": "markdown",
   "metadata": {},
   "source": [
    "### **Math** notation"
   ]
  },
  {
   "cell_type": "code",
   "execution_count": 43,
   "metadata": {},
   "outputs": [
    {
     "data": {
      "text/plain": [
       "f (generic function with 1 method)"
      ]
     },
     "metadata": {},
     "output_type": "display_data"
    }
   ],
   "source": [
    "f(x) = x+2 ## this is an expression"
   ]
  },
  {
   "cell_type": "code",
   "execution_count": 44,
   "metadata": {},
   "outputs": [
    {
     "data": {
      "text/plain": [
       "4"
      ]
     },
     "metadata": {},
     "output_type": "display_data"
    }
   ],
   "source": [
    "f(2)"
   ]
  },
  {
   "cell_type": "markdown",
   "metadata": {},
   "source": [
    "> Julia also support UNICODES! (what is so fun!)"
   ]
  },
  {
   "cell_type": "code",
   "execution_count": 45,
   "metadata": {},
   "outputs": [
    {
     "data": {
      "text/plain": [
       "f (generic function with 1 method)"
      ]
     },
     "metadata": {},
     "output_type": "display_data"
    }
   ],
   "source": [
    "f(θ) = α + β"
   ]
  },
  {
   "cell_type": "markdown",
   "metadata": {},
   "source": [
    "## 2. How to use libraries in Julia"
   ]
  },
  {
   "cell_type": "markdown",
   "metadata": {},
   "source": [
    "#### Use **Pkg** manager"
   ]
  },
  {
   "cell_type": "code",
   "execution_count": 46,
   "metadata": {},
   "outputs": [],
   "source": [
    "using Pkg"
   ]
  },
  {
   "cell_type": "markdown",
   "metadata": {},
   "source": [
    "##### **Extra topic**: Let's learn how to use Pkg on **REPL (Read-Eval-Print Loop)**"
   ]
  },
  {
   "cell_type": "code",
   "execution_count": 47,
   "metadata": {},
   "outputs": [
    {
     "name": "stderr",
     "output_type": "stream",
     "text": [
      "\u001b[32m\u001b[1m    Updating\u001b[22m\u001b[39m registry at `~/.julia/registries/General.toml`\n"
     ]
    },
    {
     "name": "stderr",
     "output_type": "stream",
     "text": [
      "\u001b[32m\u001b[1m   Resolving\u001b[22m\u001b[39m package versions...\n"
     ]
    },
    {
     "name": "stderr",
     "output_type": "stream",
     "text": [
      "\u001b[32m\u001b[1m  No Changes\u001b[22m\u001b[39m to `~/.julia/environments/v1.8/Project.toml`\n",
      "\u001b[32m\u001b[1m  No Changes\u001b[22m\u001b[39m to `~/.julia/environments/v1.8/Manifest.toml`\n"
     ]
    }
   ],
   "source": [
    "Pkg.add(\"Molly\")"
   ]
  },
  {
   "cell_type": "markdown",
   "metadata": {},
   "source": [
    "## Applications in Chemistry/Materials Science/Physics"
   ]
  },
  {
   "cell_type": "markdown",
   "metadata": {},
   "source": [
    "### Our **first simulation**"
   ]
  },
  {
   "cell_type": "markdown",
   "metadata": {},
   "source": [
    "#### Fluid in a Lennard-Jones potential"
   ]
  },
  {
   "cell_type": "code",
   "execution_count": 48,
   "metadata": {},
   "outputs": [],
   "source": [
    "using Molly"
   ]
  },
  {
   "cell_type": "code",
   "execution_count": 49,
   "metadata": {},
   "outputs": [
    {
     "data": {
      "text/plain": [
       "100-element Vector{Atom{Float64, Quantity{Float64, 𝐌, Unitful.FreeUnits{(u,), 𝐌, nothing}}, Quantity{Float64, 𝐋, Unitful.FreeUnits{(nm,), 𝐋, nothing}}, Quantity{Float64, 𝐋² 𝐌 𝐍⁻¹ 𝐓⁻², Unitful.FreeUnits{(kJ, mol⁻¹), 𝐋² 𝐌 𝐍⁻¹ 𝐓⁻², nothing}}}}:\n",
       " Atom with index 1, charge=0.0, mass=10.0 u, σ=0.3 nm, ϵ=0.2 kJ mol⁻¹\n",
       " Atom with index 1, charge=0.0, mass=10.0 u, σ=0.3 nm, ϵ=0.2 kJ mol⁻¹\n",
       " Atom with index 1, charge=0.0, mass=10.0 u, σ=0.3 nm, ϵ=0.2 kJ mol⁻¹\n",
       " Atom with index 1, charge=0.0, mass=10.0 u, σ=0.3 nm, ϵ=0.2 kJ mol⁻¹\n",
       " Atom with index 1, charge=0.0, mass=10.0 u, σ=0.3 nm, ϵ=0.2 kJ mol⁻¹\n",
       " Atom with index 1, charge=0.0, mass=10.0 u, σ=0.3 nm, ϵ=0.2 kJ mol⁻¹\n",
       " Atom with index 1, charge=0.0, mass=10.0 u, σ=0.3 nm, ϵ=0.2 kJ mol⁻¹\n",
       " Atom with index 1, charge=0.0, mass=10.0 u, σ=0.3 nm, ϵ=0.2 kJ mol⁻¹\n",
       " Atom with index 1, charge=0.0, mass=10.0 u, σ=0.3 nm, ϵ=0.2 kJ mol⁻¹\n",
       " Atom with index 1, charge=0.0, mass=10.0 u, σ=0.3 nm, ϵ=0.2 kJ mol⁻¹\n",
       " ⋮\n",
       " Atom with index 1, charge=0.0, mass=10.0 u, σ=0.3 nm, ϵ=0.2 kJ mol⁻¹\n",
       " Atom with index 1, charge=0.0, mass=10.0 u, σ=0.3 nm, ϵ=0.2 kJ mol⁻¹\n",
       " Atom with index 1, charge=0.0, mass=10.0 u, σ=0.3 nm, ϵ=0.2 kJ mol⁻¹\n",
       " Atom with index 1, charge=0.0, mass=10.0 u, σ=0.3 nm, ϵ=0.2 kJ mol⁻¹\n",
       " Atom with index 1, charge=0.0, mass=10.0 u, σ=0.3 nm, ϵ=0.2 kJ mol⁻¹\n",
       " Atom with index 1, charge=0.0, mass=10.0 u, σ=0.3 nm, ϵ=0.2 kJ mol⁻¹\n",
       " Atom with index 1, charge=0.0, mass=10.0 u, σ=0.3 nm, ϵ=0.2 kJ mol⁻¹\n",
       " Atom with index 1, charge=0.0, mass=10.0 u, σ=0.3 nm, ϵ=0.2 kJ mol⁻¹\n",
       " Atom with index 1, charge=0.0, mass=10.0 u, σ=0.3 nm, ϵ=0.2 kJ mol⁻¹"
      ]
     },
     "metadata": {},
     "output_type": "display_data"
    }
   ],
   "source": [
    "n_atoms = 100\n",
    "atom_mass = 10.0u\"u\"\n",
    "atoms = [Atom(mass=atom_mass, σ=0.3u\"nm\", ϵ=0.2u\"kJ * mol^-1\") for i in 1:n_atoms]"
   ]
  },
  {
   "cell_type": "code",
   "execution_count": 50,
   "metadata": {},
   "outputs": [
    {
     "data": {
      "text/plain": [
       "100-element Vector{SVector{3, Quantity{Float64, 𝐋 𝐓⁻¹, Unitful.FreeUnits{(nm, ps⁻¹), 𝐋 𝐓⁻¹, nothing}}}}:\n",
       " [-0.3180965173805816 nm ps⁻¹, 0.07024772142833563 nm ps⁻¹, 0.2512957439118784 nm ps⁻¹]\n",
       " [0.1326876970243668 nm ps⁻¹, -0.3833417955151688 nm ps⁻¹, -0.08928891770593461 nm ps⁻¹]\n",
       " [0.05169072329723977 nm ps⁻¹, 0.2601299945481749 nm ps⁻¹, -0.08905533848599563 nm ps⁻¹]\n",
       " [-0.09879881222339187 nm ps⁻¹, -0.2818620388325866 nm ps⁻¹, -0.5577538855124377 nm ps⁻¹]\n",
       " [-0.016607571103381204 nm ps⁻¹, 0.2219974874816963 nm ps⁻¹, -0.2165802452627814 nm ps⁻¹]\n",
       " [-0.09716283251283338 nm ps⁻¹, -0.12991883599478543 nm ps⁻¹, -0.2859702239478045 nm ps⁻¹]\n",
       " [-0.23201477823526115 nm ps⁻¹, 0.03360892496888761 nm ps⁻¹, -0.40544876385107037 nm ps⁻¹]\n",
       " [0.42046558262797007 nm ps⁻¹, 0.284095308406238 nm ps⁻¹, 0.3827345589122999 nm ps⁻¹]\n",
       " [0.03948651509639506 nm ps⁻¹, 0.7988856772001693 nm ps⁻¹, -0.18962621160958598 nm ps⁻¹]\n",
       " [0.02904135027625723 nm ps⁻¹, 0.19064553294386338 nm ps⁻¹, -0.14011509973238975 nm ps⁻¹]\n",
       " ⋮\n",
       " [0.3567237677494728 nm ps⁻¹, 0.36379564685839044 nm ps⁻¹, 0.1668114857217551 nm ps⁻¹]\n",
       " [-0.3594032113286994 nm ps⁻¹, 0.5368001773078979 nm ps⁻¹, 0.1554601317314107 nm ps⁻¹]\n",
       " [0.0052101540210732515 nm ps⁻¹, 0.011401200106126299 nm ps⁻¹, -0.12812706672198187 nm ps⁻¹]\n",
       " [0.3679371608709912 nm ps⁻¹, -0.257767769379958 nm ps⁻¹, 0.2701657157809171 nm ps⁻¹]\n",
       " [0.27643614811073325 nm ps⁻¹, -0.33550526606326697 nm ps⁻¹, -0.36068715497246223 nm ps⁻¹]\n",
       " [-0.5203287981974696 nm ps⁻¹, -0.28353577124683077 nm ps⁻¹, 0.48078913233729925 nm ps⁻¹]\n",
       " [0.10188662833716705 nm ps⁻¹, -0.3813251249922087 nm ps⁻¹, -0.7190888205244217 nm ps⁻¹]\n",
       " [0.053687068107780254 nm ps⁻¹, 0.37017657372194696 nm ps⁻¹, -0.16750649819338523 nm ps⁻¹]\n",
       " [-0.33964487928213855 nm ps⁻¹, 0.2909085819092227 nm ps⁻¹, -0.24942077302806584 nm ps⁻¹]"
      ]
     },
     "metadata": {},
     "output_type": "display_data"
    }
   ],
   "source": [
    "boundary = CubicBoundary(2.0u\"nm\", 2.0u\"nm\", 2.0u\"nm\") # Periodic boundary conditions\n",
    "coords = place_atoms(n_atoms, boundary; min_dist=0.3u\"nm\") # Random placement without clashing\n",
    "\n",
    "temp = 100.0u\"K\"\n",
    "velocities = [velocity(atom_mass, temp) for i in 1:n_atoms]"
   ]
  },
  {
   "cell_type": "code",
   "execution_count": 51,
   "metadata": {},
   "outputs": [
    {
     "data": {
      "text/plain": [
       "(LennardJones{false, NoCutoff, Int64, Int64, Unitful.FreeUnits{(kJ, nm⁻¹, mol⁻¹), 𝐋 𝐌 𝐍⁻¹ 𝐓⁻², nothing}, Unitful.FreeUnits{(kJ, mol⁻¹), 𝐋² 𝐌 𝐍⁻¹ 𝐓⁻², nothing}}(NoCutoff(), false, true, 1, 1, kJ nm⁻¹ mol⁻¹, kJ mol⁻¹),)"
      ]
     },
     "metadata": {},
     "output_type": "display_data"
    }
   ],
   "source": [
    "pairwise_inters = (LennardJones(),) # Don't forget the trailing comma!"
   ]
  },
  {
   "cell_type": "code",
   "execution_count": 52,
   "metadata": {},
   "outputs": [
    {
     "data": {
      "text/plain": [
       "System with 100 atoms, boundary CubicBoundary{Quantity{Float64, 𝐋, Unitful.FreeUnits{(nm,), 𝐋, nothing}}}(Quantity{Float64, 𝐋, Unitful.FreeUnits{(nm,), 𝐋, nothing}}[2.0 nm, 2.0 nm, 2.0 nm])"
      ]
     },
     "metadata": {},
     "output_type": "display_data"
    }
   ],
   "source": [
    "sys = System(\n",
    "    atoms=atoms,\n",
    "    pairwise_inters=pairwise_inters,\n",
    "    coords=coords,\n",
    "    velocities=velocities,\n",
    "    boundary=boundary,\n",
    "    loggers=(\n",
    "        temp=TemperatureLogger(10),\n",
    "        coords=CoordinateLogger(10),\n",
    "    ),\n",
    ")\n",
    "\n",
    "simulator = VelocityVerlet(\n",
    "    dt=0.002u\"ps\",\n",
    "    coupling=AndersenThermostat(temp, 1.0u\"ps\"),\n",
    ")\n",
    "\n",
    "simulate!(sys, simulator, 1_000)"
   ]
  },
  {
   "cell_type": "code",
   "execution_count": 54,
   "metadata": {},
   "outputs": [
    {
     "data": {
      "text/plain": [
       "\"sim_lj.mp4\""
      ]
     },
     "metadata": {},
     "output_type": "display_data"
    }
   ],
   "source": [
    "using GLMakie\n",
    "visualize(sys.loggers.coords, boundary, \"sim_lj.mp4\")"
   ]
  },
  {
   "cell_type": "markdown",
   "metadata": {},
   "source": [
    "### Molly also supports GPU acceleration"
   ]
  },
  {
   "cell_type": "code",
   "execution_count": 25,
   "metadata": {},
   "outputs": [],
   "source": [
    "using Pkg"
   ]
  },
  {
   "cell_type": "markdown",
   "metadata": {},
   "source": [
    "#### Do not forget to install the packages using ```Pkg.install(\"CUDA\")```"
   ]
  },
  {
   "cell_type": "code",
   "execution_count": 26,
   "metadata": {},
   "outputs": [],
   "source": [
    "using CUDA"
   ]
  },
  {
   "cell_type": "code",
   "execution_count": 27,
   "metadata": {},
   "outputs": [
    {
     "ename": "LoadError",
     "evalue": "LoadError: UndefVarError: @u_str not defined\nin expression starting at /Users/leticiamadureira/RIIA_workshop/HandsOn.ipynb:2",
     "output_type": "error",
     "traceback": [
      "LoadError: UndefVarError: @u_str not defined\n",
      "in expression starting at /Users/leticiamadureira/RIIA_workshop/HandsOn.ipynb:2\n"
     ]
    }
   ],
   "source": [
    "n_atoms = 100\n",
    "atom_mass = 10.0f0u\"u\"\n",
    "boundary = CubicBoundary(2.0f0u\"nm\", 2.0f0u\"nm\", 2.0f0u\"nm\")\n",
    "temp = 100.0f0u\"K\"\n",
    "atoms = CuArray([Atom(mass=atom_mass, σ=0.3f0u\"nm\", ϵ=0.2f0u\"kJ * mol^-1\") for i in 1:n_atoms])\n",
    "coords = CuArray(place_atoms(n_atoms, boundary; min_dist=0.3u\"nm\"))\n",
    "velocities = CuArray([velocity(atom_mass, temp) for i in 1:n_atoms])\n",
    "simulator = VelocityVerlet(dt=0.002f0u\"ps\")\n",
    "\n",
    "sys = System(\n",
    "    atoms=atoms,\n",
    "    pairwise_inters=(LennardJones(),),\n",
    "    coords=coords,\n",
    "    velocities=velocities,\n",
    "    boundary=boundary,\n",
    "    loggers=(\n",
    "        temp=TemperatureLogger(typeof(1.0f0u\"K\"), 10),\n",
    "        coords=CoordinateLogger(typeof(1.0f0u\"nm\"), 10),\n",
    "    ),\n",
    ")\n",
    "\n",
    "simulate!(sys, simulator, 1_000)"
   ]
  },
  {
   "cell_type": "markdown",
   "metadata": {},
   "source": [
    "### Let us simulate a diatomic molecule"
   ]
  },
  {
   "cell_type": "code",
   "execution_count": 53,
   "metadata": {},
   "outputs": [
    {
     "data": {
      "text/plain": [
       "100-element Vector{SVector{3, Quantity{Float64, 𝐋 𝐓⁻¹, Unitful.FreeUnits{(nm, ps⁻¹), 𝐋 𝐓⁻¹, nothing}}}}:\n",
       " [0.2988330540578179 nm ps⁻¹, 0.8459042880474006 nm ps⁻¹, 0.2306764326217545 nm ps⁻¹]\n",
       " [-0.03225033090785876 nm ps⁻¹, -0.13850674186211384 nm ps⁻¹, -0.052929505920527885 nm ps⁻¹]\n",
       " [-0.2792072594211208 nm ps⁻¹, -0.34296265766726175 nm ps⁻¹, 0.027744156246048306 nm ps⁻¹]\n",
       " [-0.2082629505660718 nm ps⁻¹, -0.04743646550252591 nm ps⁻¹, 0.2890373074192164 nm ps⁻¹]\n",
       " [-0.32010092026807946 nm ps⁻¹, -0.2962366642192908 nm ps⁻¹, 0.04096763029064171 nm ps⁻¹]\n",
       " [-0.01522628643213498 nm ps⁻¹, 0.11957025125940911 nm ps⁻¹, -0.07113709299825413 nm ps⁻¹]\n",
       " [0.47812141741821357 nm ps⁻¹, -0.02865057344699564 nm ps⁻¹, -0.3596960951440037 nm ps⁻¹]\n",
       " [-0.3057945837345712 nm ps⁻¹, -0.15155790520152324 nm ps⁻¹, -0.16763807273129336 nm ps⁻¹]\n",
       " [0.29333766268343464 nm ps⁻¹, -0.19463249974003574 nm ps⁻¹, -0.10136440194442517 nm ps⁻¹]\n",
       " [-0.11446045780842778 nm ps⁻¹, -0.1512115185044554 nm ps⁻¹, 0.580209899725143 nm ps⁻¹]\n",
       " ⋮\n",
       " [0.5115308611339042 nm ps⁻¹, -0.24931324953482728 nm ps⁻¹, -0.4071964506647183 nm ps⁻¹]\n",
       " [-0.024967067171510815 nm ps⁻¹, 0.02516166157414177 nm ps⁻¹, 0.1560415328282217 nm ps⁻¹]\n",
       " [0.3461214775349001 nm ps⁻¹, -0.4052556031594697 nm ps⁻¹, -0.03327554276599053 nm ps⁻¹]\n",
       " [0.24948548142327298 nm ps⁻¹, 0.06971690965805298 nm ps⁻¹, 0.41796016675040487 nm ps⁻¹]\n",
       " [0.32833288808418293 nm ps⁻¹, 0.1270727516682476 nm ps⁻¹, 0.24112431403733536 nm ps⁻¹]\n",
       " [-0.17633920623558286 nm ps⁻¹, 0.7711165139177812 nm ps⁻¹, 0.010328130204572742 nm ps⁻¹]\n",
       " [0.030987118102836563 nm ps⁻¹, -0.14750963544079546 nm ps⁻¹, -0.020008290336174833 nm ps⁻¹]\n",
       " [0.19862913017645692 nm ps⁻¹, 0.07301767284845395 nm ps⁻¹, -0.18408133429569307 nm ps⁻¹]\n",
       " [-0.197699918699198 nm ps⁻¹, -0.2950170257948831 nm ps⁻¹, 0.21198112669817112 nm ps⁻¹]"
      ]
     },
     "metadata": {},
     "output_type": "display_data"
    }
   ],
   "source": [
    "coords = place_atoms(n_atoms ÷ 2, boundary; min_dist=0.3u\"nm\")\n",
    "for i in 1:length(coords)\n",
    "    push!(coords, coords[i] .+ [0.1, 0.0, 0.0]u\"nm\")\n",
    "end\n",
    "\n",
    "velocities = [velocity(atom_mass, temp) for i in 1:n_atoms]"
   ]
  },
  {
   "cell_type": "code",
   "execution_count": 55,
   "metadata": {},
   "outputs": [
    {
     "data": {
      "text/plain": [
       "(InteractionList2Atoms{Vector{HarmonicBond{Quantity{Float64, 𝐌 𝐍⁻¹ 𝐓⁻², Unitful.FreeUnits{(kJ, nm⁻², mol⁻¹), 𝐌 𝐍⁻¹ 𝐓⁻², nothing}}, Quantity{Float64, 𝐋, Unitful.FreeUnits{(nm,), 𝐋, nothing}}}}}([1, 2, 3, 4, 5, 6, 7, 8, 9, 10  …  41, 42, 43, 44, 45, 46, 47, 48, 49, 50], [51, 52, 53, 54, 55, 56, 57, 58, 59, 60  …  91, 92, 93, 94, 95, 96, 97, 98, 99, 100], [\"\", \"\", \"\", \"\", \"\", \"\", \"\", \"\", \"\", \"\"  …  \"\", \"\", \"\", \"\", \"\", \"\", \"\", \"\", \"\", \"\"], HarmonicBond{Quantity{Float64, 𝐌 𝐍⁻¹ 𝐓⁻², Unitful.FreeUnits{(kJ, nm⁻², mol⁻¹), 𝐌 𝐍⁻¹ 𝐓⁻², nothing}}, Quantity{Float64, 𝐋, Unitful.FreeUnits{(nm,), 𝐋, nothing}}}[HarmonicBond{Quantity{Float64, 𝐌 𝐍⁻¹ 𝐓⁻², Unitful.FreeUnits{(kJ, nm⁻², mol⁻¹), 𝐌 𝐍⁻¹ 𝐓⁻², nothing}}, Quantity{Float64, 𝐋, Unitful.FreeUnits{(nm,), 𝐋, nothing}}}(300000.0 kJ nm⁻² mol⁻¹, 0.1 nm), HarmonicBond{Quantity{Float64, 𝐌 𝐍⁻¹ 𝐓⁻², Unitful.FreeUnits{(kJ, nm⁻², mol⁻¹), 𝐌 𝐍⁻¹ 𝐓⁻², nothing}}, Quantity{Float64, 𝐋, Unitful.FreeUnits{(nm,), 𝐋, nothing}}}(300000.0 kJ nm⁻² mol⁻¹, 0.1 nm), HarmonicBond{Quantity{Float64, 𝐌 𝐍⁻¹ 𝐓⁻², Unitful.FreeUnits{(kJ, nm⁻², mol⁻¹), 𝐌 𝐍⁻¹ 𝐓⁻², nothing}}, Quantity{Float64, 𝐋, Unitful.FreeUnits{(nm,), 𝐋, nothing}}}(300000.0 kJ nm⁻² mol⁻¹, 0.1 nm), HarmonicBond{Quantity{Float64, 𝐌 𝐍⁻¹ 𝐓⁻², Unitful.FreeUnits{(kJ, nm⁻², mol⁻¹), 𝐌 𝐍⁻¹ 𝐓⁻², nothing}}, Quantity{Float64, 𝐋, Unitful.FreeUnits{(nm,), 𝐋, nothing}}}(300000.0 kJ nm⁻² mol⁻¹, 0.1 nm), HarmonicBond{Quantity{Float64, 𝐌 𝐍⁻¹ 𝐓⁻², Unitful.FreeUnits{(kJ, nm⁻², mol⁻¹), 𝐌 𝐍⁻¹ 𝐓⁻², nothing}}, Quantity{Float64, 𝐋, Unitful.FreeUnits{(nm,), 𝐋, nothing}}}(300000.0 kJ nm⁻² mol⁻¹, 0.1 nm), HarmonicBond{Quantity{Float64, 𝐌 𝐍⁻¹ 𝐓⁻², Unitful.FreeUnits{(kJ, nm⁻², mol⁻¹), 𝐌 𝐍⁻¹ 𝐓⁻², nothing}}, Quantity{Float64, 𝐋, Unitful.FreeUnits{(nm,), 𝐋, nothing}}}(300000.0 kJ nm⁻² mol⁻¹, 0.1 nm), HarmonicBond{Quantity{Float64, 𝐌 𝐍⁻¹ 𝐓⁻², Unitful.FreeUnits{(kJ, nm⁻², mol⁻¹), 𝐌 𝐍⁻¹ 𝐓⁻², nothing}}, Quantity{Float64, 𝐋, Unitful.FreeUnits{(nm,), 𝐋, nothing}}}(300000.0 kJ nm⁻² mol⁻¹, 0.1 nm), HarmonicBond{Quantity{Float64, 𝐌 𝐍⁻¹ 𝐓⁻², Unitful.FreeUnits{(kJ, nm⁻², mol⁻¹), 𝐌 𝐍⁻¹ 𝐓⁻², nothing}}, Quantity{Float64, 𝐋, Unitful.FreeUnits{(nm,), 𝐋, nothing}}}(300000.0 kJ nm⁻² mol⁻¹, 0.1 nm), HarmonicBond{Quantity{Float64, 𝐌 𝐍⁻¹ 𝐓⁻², Unitful.FreeUnits{(kJ, nm⁻², mol⁻¹), 𝐌 𝐍⁻¹ 𝐓⁻², nothing}}, Quantity{Float64, 𝐋, Unitful.FreeUnits{(nm,), 𝐋, nothing}}}(300000.0 kJ nm⁻² mol⁻¹, 0.1 nm), HarmonicBond{Quantity{Float64, 𝐌 𝐍⁻¹ 𝐓⁻², Unitful.FreeUnits{(kJ, nm⁻², mol⁻¹), 𝐌 𝐍⁻¹ 𝐓⁻², nothing}}, Quantity{Float64, 𝐋, Unitful.FreeUnits{(nm,), 𝐋, nothing}}}(300000.0 kJ nm⁻² mol⁻¹, 0.1 nm)  …  HarmonicBond{Quantity{Float64, 𝐌 𝐍⁻¹ 𝐓⁻², Unitful.FreeUnits{(kJ, nm⁻², mol⁻¹), 𝐌 𝐍⁻¹ 𝐓⁻², nothing}}, Quantity{Float64, 𝐋, Unitful.FreeUnits{(nm,), 𝐋, nothing}}}(300000.0 kJ nm⁻² mol⁻¹, 0.1 nm), HarmonicBond{Quantity{Float64, 𝐌 𝐍⁻¹ 𝐓⁻², Unitful.FreeUnits{(kJ, nm⁻², mol⁻¹), 𝐌 𝐍⁻¹ 𝐓⁻², nothing}}, Quantity{Float64, 𝐋, Unitful.FreeUnits{(nm,), 𝐋, nothing}}}(300000.0 kJ nm⁻² mol⁻¹, 0.1 nm), HarmonicBond{Quantity{Float64, 𝐌 𝐍⁻¹ 𝐓⁻², Unitful.FreeUnits{(kJ, nm⁻², mol⁻¹), 𝐌 𝐍⁻¹ 𝐓⁻², nothing}}, Quantity{Float64, 𝐋, Unitful.FreeUnits{(nm,), 𝐋, nothing}}}(300000.0 kJ nm⁻² mol⁻¹, 0.1 nm), HarmonicBond{Quantity{Float64, 𝐌 𝐍⁻¹ 𝐓⁻², Unitful.FreeUnits{(kJ, nm⁻², mol⁻¹), 𝐌 𝐍⁻¹ 𝐓⁻², nothing}}, Quantity{Float64, 𝐋, Unitful.FreeUnits{(nm,), 𝐋, nothing}}}(300000.0 kJ nm⁻² mol⁻¹, 0.1 nm), HarmonicBond{Quantity{Float64, 𝐌 𝐍⁻¹ 𝐓⁻², Unitful.FreeUnits{(kJ, nm⁻², mol⁻¹), 𝐌 𝐍⁻¹ 𝐓⁻², nothing}}, Quantity{Float64, 𝐋, Unitful.FreeUnits{(nm,), 𝐋, nothing}}}(300000.0 kJ nm⁻² mol⁻¹, 0.1 nm), HarmonicBond{Quantity{Float64, 𝐌 𝐍⁻¹ 𝐓⁻², Unitful.FreeUnits{(kJ, nm⁻², mol⁻¹), 𝐌 𝐍⁻¹ 𝐓⁻², nothing}}, Quantity{Float64, 𝐋, Unitful.FreeUnits{(nm,), 𝐋, nothing}}}(300000.0 kJ nm⁻² mol⁻¹, 0.1 nm), HarmonicBond{Quantity{Float64, 𝐌 𝐍⁻¹ 𝐓⁻², Unitful.FreeUnits{(kJ, nm⁻², mol⁻¹), 𝐌 𝐍⁻¹ 𝐓⁻², nothing}}, Quantity{Float64, 𝐋, Unitful.FreeUnits{(nm,), 𝐋, nothing}}}(300000.0 kJ nm⁻² mol⁻¹, 0.1 nm), HarmonicBond{Quantity{Float64, 𝐌 𝐍⁻¹ 𝐓⁻², Unitful.FreeUnits{(kJ, nm⁻², mol⁻¹), 𝐌 𝐍⁻¹ 𝐓⁻², nothing}}, Quantity{Float64, 𝐋, Unitful.FreeUnits{(nm,), 𝐋, nothing}}}(300000.0 kJ nm⁻² mol⁻¹, 0.1 nm), HarmonicBond{Quantity{Float64, 𝐌 𝐍⁻¹ 𝐓⁻², Unitful.FreeUnits{(kJ, nm⁻², mol⁻¹), 𝐌 𝐍⁻¹ 𝐓⁻², nothing}}, Quantity{Float64, 𝐋, Unitful.FreeUnits{(nm,), 𝐋, nothing}}}(300000.0 kJ nm⁻² mol⁻¹, 0.1 nm), HarmonicBond{Quantity{Float64, 𝐌 𝐍⁻¹ 𝐓⁻², Unitful.FreeUnits{(kJ, nm⁻², mol⁻¹), 𝐌 𝐍⁻¹ 𝐓⁻², nothing}}, Quantity{Float64, 𝐋, Unitful.FreeUnits{(nm,), 𝐋, nothing}}}(300000.0 kJ nm⁻² mol⁻¹, 0.1 nm)]),)"
      ]
     },
     "metadata": {},
     "output_type": "display_data"
    }
   ],
   "source": [
    "bonds = InteractionList2Atoms(\n",
    "    collect(1:(n_atoms ÷ 2)),           # First atom indices\n",
    "    collect((1 + n_atoms ÷ 2):n_atoms), # Second atom indices\n",
    "    repeat([\"\"], n_atoms ÷ 2),          # Bond types\n",
    "    [HarmonicBond(k=300_000.0u\"kJ * mol^-1 * nm^-2\", r0=0.1u\"nm\") for i in 1:(n_atoms ÷ 2)],\n",
    ")\n",
    "\n",
    "specific_inter_lists = (bonds,)"
   ]
  },
  {
   "cell_type": "code",
   "execution_count": 56,
   "metadata": {},
   "outputs": [
    {
     "data": {
      "text/plain": [
       "(LennardJones{false, DistanceCutoff{Quantity{Float64, 𝐋, Unitful.FreeUnits{(nm,), 𝐋, nothing}}, Quantity{Float64, 𝐋², Unitful.FreeUnits{(nm²,), 𝐋², nothing}}, Quantity{Float64, 𝐋⁻², Unitful.FreeUnits{(nm⁻²,), 𝐋⁻², nothing}}}, Int64, Int64, Unitful.FreeUnits{(kJ, nm⁻¹, mol⁻¹), 𝐋 𝐌 𝐍⁻¹ 𝐓⁻², nothing}, Unitful.FreeUnits{(kJ, mol⁻¹), 𝐋² 𝐌 𝐍⁻¹ 𝐓⁻², nothing}}(DistanceCutoff{Quantity{Float64, 𝐋, Unitful.FreeUnits{(nm,), 𝐋, nothing}}, Quantity{Float64, 𝐋², Unitful.FreeUnits{(nm²,), 𝐋², nothing}}, Quantity{Float64, 𝐋⁻², Unitful.FreeUnits{(nm⁻²,), 𝐋⁻², nothing}}}(1.2 nm, 1.44 nm², 0.6944444444444444 nm⁻²), true, true, 1, 1, kJ nm⁻¹ mol⁻¹, kJ mol⁻¹),)"
      ]
     },
     "metadata": {},
     "output_type": "display_data"
    }
   ],
   "source": [
    "# All pairs apart from bonded pairs are eligible for non-bonded interactions\n",
    "nb_matrix = trues(n_atoms, n_atoms)\n",
    "for i in 1:(n_atoms ÷ 2)\n",
    "    nb_matrix[i, i + (n_atoms ÷ 2)] = false\n",
    "    nb_matrix[i + (n_atoms ÷ 2), i] = false\n",
    "end\n",
    "\n",
    "neighbor_finder = DistanceNeighborFinder(\n",
    "    nb_matrix=nb_matrix,\n",
    "    n_steps=10,\n",
    "    dist_cutoff=1.5u\"nm\",\n",
    ")\n",
    "\n",
    "pairwise_inters = (LennardJones(nl_only=true, cutoff=DistanceCutoff(1.2u\"nm\")),)"
   ]
  },
  {
   "cell_type": "code",
   "execution_count": 57,
   "metadata": {},
   "outputs": [
    {
     "data": {
      "text/plain": [
       "System with 100 atoms, boundary CubicBoundary{Quantity{Float64, 𝐋, Unitful.FreeUnits{(nm,), 𝐋, nothing}}}(Quantity{Float64, 𝐋, Unitful.FreeUnits{(nm,), 𝐋, nothing}}[2.0 nm, 2.0 nm, 2.0 nm])"
      ]
     },
     "metadata": {},
     "output_type": "display_data"
    }
   ],
   "source": [
    "sys = System(\n",
    "    atoms=atoms,\n",
    "    pairwise_inters=pairwise_inters,\n",
    "    specific_inter_lists=specific_inter_lists,\n",
    "    coords=coords,\n",
    "    velocities=velocities,\n",
    "    boundary=boundary,\n",
    "    neighbor_finder=neighbor_finder,\n",
    "    loggers=(\n",
    "        temp=TemperatureLogger(10),\n",
    "        coords=CoordinateLogger(10),\n",
    "    ),\n",
    ")\n",
    "\n",
    "simulator = VelocityVerlet(\n",
    "    dt=0.002u\"ps\",\n",
    "    coupling=AndersenThermostat(temp, 1.0u\"ps\"),\n",
    ")\n",
    "simulate!(sys, simulator, 1_000)"
   ]
  },
  {
   "cell_type": "code",
   "execution_count": 58,
   "metadata": {},
   "outputs": [
    {
     "data": {
      "text/plain": [
       "\"sim_diatomic.mp4\""
      ]
     },
     "metadata": {},
     "output_type": "display_data"
    }
   ],
   "source": [
    "visualize(\n",
    "    sys.loggers.coords,\n",
    "    boundary,\n",
    "    \"sim_diatomic.mp4\";\n",
    "    connections=[(i, i + (n_atoms ÷ 2)) for i in 1:(n_atoms ÷ 2)],\n",
    ")"
   ]
  },
  {
   "cell_type": "markdown",
   "metadata": {},
   "source": [
    "#### Simulating the protein"
   ]
  },
  {
   "cell_type": "code",
   "execution_count": null,
   "metadata": {},
   "outputs": [],
   "source": [
    "/Users/leticiamadureira/.julia/packages/Molly/PMLnv/data"
   ]
  },
  {
   "cell_type": "code",
   "execution_count": 61,
   "metadata": {},
   "outputs": [
    {
     "data": {
      "text/plain": [
       "\"/Users/leticiamadureira/.julia/packages/Molly/../data\""
      ]
     },
     "metadata": {},
     "output_type": "display_data"
    }
   ],
   "source": [
    "data_dir = joinpath(dirname(\"/Users/leticiamadureira/.julia/packages/Molly/PMLnv\"), \"data\")"
   ]
  },
  {
   "cell_type": "code",
   "execution_count": null,
   "metadata": {},
   "outputs": [],
   "source": []
  },
  {
   "cell_type": "markdown",
   "metadata": {},
   "source": [
    "### Simulating gravity"
   ]
  },
  {
   "cell_type": "markdown",
   "metadata": {},
   "source": [
    "##### Molly is geared primarily to molecular simulation, but can also be used to simulate other physical systems. Let's set up a gravitational simulation. This example also shows the use of Float32, a 2D simulation and no specified units."
   ]
  },
  {
   "cell_type": "code",
   "execution_count": 59,
   "metadata": {},
   "outputs": [
    {
     "data": {
      "text/plain": [
       "System with 2 atoms, boundary RectangularBoundary{Float32}(Float32[1.0, 1.0])"
      ]
     },
     "metadata": {},
     "output_type": "display_data"
    }
   ],
   "source": [
    "atoms = [Atom(mass=1.0f0), Atom(mass=1.0f0)]\n",
    "coords = [SVector(0.3f0, 0.5f0), SVector(0.7f0, 0.5f0)]\n",
    "velocities = [SVector(0.0f0, 1.0f0), SVector(0.0f0, -1.0f0)]\n",
    "pairwise_inters = (Gravity(nl_only=false, G=1.5f0),)\n",
    "simulator = VelocityVerlet(dt=0.002f0)\n",
    "boundary = RectangularBoundary(1.0f0, 1.0f0)\n",
    "\n",
    "sys = System(\n",
    "    atoms=atoms,\n",
    "    pairwise_inters=pairwise_inters,\n",
    "    coords=coords,\n",
    "    velocities=velocities,\n",
    "    boundary=boundary,\n",
    "    loggers=(coords=CoordinateLogger(Float32, 10; dims=2),),\n",
    "    force_units=NoUnits,\n",
    "    energy_units=NoUnits,\n",
    ")\n",
    "\n",
    "simulate!(sys, simulator, 2_000)"
   ]
  },
  {
   "cell_type": "code",
   "execution_count": 60,
   "metadata": {},
   "outputs": [
    {
     "data": {
      "text/plain": [
       "\"sim_gravity.mp4\""
      ]
     },
     "metadata": {},
     "output_type": "display_data"
    }
   ],
   "source": [
    "visualize(\n",
    "    sys.loggers.coords,\n",
    "    boundary,\n",
    "    \"sim_gravity.mp4\";\n",
    "    trails=4,\n",
    "    framerate=15,\n",
    "    color=[:orange, :lightgreen],\n",
    ")"
   ]
  },
  {
   "cell_type": "markdown",
   "metadata": {},
   "source": [
    "### A **fun topic**: simulating the solar system"
   ]
  },
  {
   "cell_type": "code",
   "execution_count": 29,
   "metadata": {},
   "outputs": [
    {
     "ename": "UndefVarError",
     "evalue": "UndefVarError: ß not defined",
     "output_type": "error",
     "traceback": [
      "UndefVarError: ß not defined\n"
     ]
    }
   ],
   "source": [
    "using GLMakie\n",
    "using Molly\n",
    "ß\n",
    "# Using get_body_barycentric_posvel from Astropy\n",
    "coords = [\n",
    "    SVector(-1336052.8665050615,  294465.0896030796 ,  158690.88781384667)u\"km\",\n",
    "    SVector(-58249418.70233503 , -26940630.286818042, -8491250.752464907 )u\"km\",\n",
    "    SVector( 58624128.321813114, -81162437.2641475  , -40287143.05760552 )u\"km\",\n",
    "    SVector(-99397467.7302648  , -105119583.06486066, -45537506.29775053 )u\"km\",\n",
    "    SVector( 131714235.34070954, -144249196.60814604, -69730238.5084304  )u\"km\",\n",
    "]\n",
    "\n",
    "velocities = [\n",
    "    SVector(-303.86327859262457, -1229.6540090943934, -513.791218405548  )u\"km * d^-1\",\n",
    "    SVector( 1012486.9596885007, -3134222.279236384 , -1779128.5093088674)u\"km * d^-1\",\n",
    "    SVector( 2504563.6403826815,  1567163.5923297722,  546718.234192132  )u\"km * d^-1\",\n",
    "    SVector( 1915792.9709661514, -1542400.0057833872, -668579.962254351  )u\"km * d^-1\",\n",
    "    SVector( 1690083.43357355  ,  1393597.7855017239,  593655.0037930267 )u\"km * d^-1\",\n",
    "]\n",
    "\n",
    "body_masses = [\n",
    "    1.989e30u\"kg\",\n",
    "    0.330e24u\"kg\",\n",
    "    4.87e24u\"kg\" ,\n",
    "    5.97e24u\"kg\" ,\n",
    "    0.642e24u\"kg\",\n",
    "]\n",
    "\n",
    "boundary = CubicBoundary(1e9u\"km\", 1e9u\"km\", 1e9u\"km\")\n",
    "\n",
    "# Convert the gravitational constant to the appropriate units\n",
    "inter = Gravity(G=convert(typeof(1.0u\"km^3 * kg^-1 * d^-2\"), Unitful.G))\n",
    "\n",
    "sys = System(\n",
    "    atoms=[Atom(mass=m) for m in body_masses],\n",
    "    pairwise_inters=(inter,),\n",
    "    coords=coords .+ (SVector(5e8, 5e8, 5e8)u\"km\",),\n",
    "    velocities=velocities,\n",
    "    boundary=boundary,\n",
    "    loggers=(coords=CoordinateLogger(typeof(1.0u\"km\"), 10),),\n",
    "    force_units=u\"kg * km * d^-2\",\n",
    "    energy_units=u\"kg * km^2 * d^-2\",\n",
    ")\n",
    "\n",
    "simulator = Verlet(\n",
    "    dt=0.1u\"d\",\n",
    "    remove_CM_motion=false,\n",
    ")\n",
    "\n",
    "simulate!(sys, simulator, 3650) # 1 year\n",
    "\n",
    "visualize(\n",
    "    sys.loggers.coords,\n",
    "    boundary,\n",
    "    \"sim_planets.mp4\";\n",
    "    trails=5,\n",
    "    color=[:yellow, :grey, :orange, :blue, :red],\n",
    "    markersize=[0.25, 0.08, 0.08, 0.08, 0.08],\n",
    "    transparency=false,\n",
    ")\n"
   ]
  },
  {
   "cell_type": "markdown",
   "metadata": {},
   "source": [
    "### Julia for Machine Learning"
   ]
  },
  {
   "cell_type": "markdown",
   "metadata": {},
   "source": [
    "- Recommending packages"
   ]
  },
  {
   "cell_type": "markdown",
   "metadata": {},
   "source": [
    "- Showing tutorials"
   ]
  },
  {
   "cell_type": "markdown",
   "metadata": {},
   "source": [
    "### Conclusion: **Julia is a super powerful language**"
   ]
  }
 ],
 "metadata": {
  "kernelspec": {
   "display_name": "Julia 1.8.1",
   "language": "julia",
   "name": "julia-1.8"
  },
  "language_info": {
   "file_extension": ".jl",
   "mimetype": "application/julia",
   "name": "julia",
   "version": "1.8.1"
  },
  "orig_nbformat": 4
 },
 "nbformat": 4,
 "nbformat_minor": 2
}
