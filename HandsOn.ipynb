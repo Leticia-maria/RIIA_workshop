{
 "cells": [
  {
   "cell_type": "markdown",
   "metadata": {},
   "source": [
    "## 1. How to use libraries in Julia"
   ]
  },
  {
   "cell_type": "markdown",
   "metadata": {},
   "source": [
    "#### 1. Use **Pkg** manager"
   ]
  },
  {
   "cell_type": "code",
   "execution_count": 1,
   "metadata": {},
   "outputs": [],
   "source": [
    "using Pkg"
   ]
  },
  {
   "cell_type": "markdown",
   "metadata": {},
   "source": [
    "##### 1.1. **Extra topic**: Let's learn how to use Pkg on REPL"
   ]
  },
  {
   "cell_type": "code",
   "execution_count": 3,
   "metadata": {},
   "outputs": [
    {
     "name": "stderr",
     "output_type": "stream",
     "text": [
      "\u001b[32m\u001b[1m   Resolving\u001b[22m\u001b[39m package versions...\n",
      "\u001b[32m\u001b[1m  No Changes\u001b[22m\u001b[39m to `~/.julia/environments/v1.8/Project.toml`\n",
      "\u001b[32m\u001b[1m  No Changes\u001b[22m\u001b[39m to `~/.julia/environments/v1.8/Manifest.toml`\n"
     ]
    }
   ],
   "source": [
    "Pkg.add(\"Molly\")"
   ]
  },
  {
   "cell_type": "markdown",
   "metadata": {},
   "source": [
    "## 2. Our **first simulation**"
   ]
  },
  {
   "cell_type": "markdown",
   "metadata": {},
   "source": [
    "> Here we have a fluid acting under the Lennard-Jones potential to start with."
   ]
  },
  {
   "cell_type": "code",
   "execution_count": 4,
   "metadata": {},
   "outputs": [],
   "source": [
    "using Molly"
   ]
  },
  {
   "cell_type": "markdown",
   "metadata": {},
   "source": [
    "#### 2.1. Using **100 atoms**"
   ]
  },
  {
   "cell_type": "code",
   "execution_count": 5,
   "metadata": {},
   "outputs": [
    {
     "data": {
      "text/plain": [
       "100"
      ]
     },
     "metadata": {},
     "output_type": "display_data"
    }
   ],
   "source": [
    "n_atoms = 100 #(this is the number of atoms)"
   ]
  },
  {
   "cell_type": "code",
   "execution_count": 6,
   "metadata": {},
   "outputs": [
    {
     "data": {
      "text/plain": [
       "10.0 u"
      ]
     },
     "metadata": {},
     "output_type": "display_data"
    }
   ],
   "source": [
    "atom_mass = 10.0u\"u\""
   ]
  },
  {
   "cell_type": "code",
   "execution_count": 7,
   "metadata": {},
   "outputs": [
    {
     "data": {
      "text/plain": [
       "100-element Vector{Atom{Float64, Quantity{Float64, 𝐌, Unitful.FreeUnits{(u,), 𝐌, nothing}}, Quantity{Float64, 𝐋, Unitful.FreeUnits{(nm,), 𝐋, nothing}}, Quantity{Float64, 𝐋² 𝐌 𝐍⁻¹ 𝐓⁻², Unitful.FreeUnits{(kJ, mol⁻¹), 𝐋² 𝐌 𝐍⁻¹ 𝐓⁻², nothing}}}}:\n",
       " Atom with index 1, charge=0.0, mass=10.0 u, σ=0.3 nm, ϵ=0.2 kJ mol⁻¹\n",
       " Atom with index 1, charge=0.0, mass=10.0 u, σ=0.3 nm, ϵ=0.2 kJ mol⁻¹\n",
       " Atom with index 1, charge=0.0, mass=10.0 u, σ=0.3 nm, ϵ=0.2 kJ mol⁻¹\n",
       " Atom with index 1, charge=0.0, mass=10.0 u, σ=0.3 nm, ϵ=0.2 kJ mol⁻¹\n",
       " Atom with index 1, charge=0.0, mass=10.0 u, σ=0.3 nm, ϵ=0.2 kJ mol⁻¹\n",
       " Atom with index 1, charge=0.0, mass=10.0 u, σ=0.3 nm, ϵ=0.2 kJ mol⁻¹\n",
       " Atom with index 1, charge=0.0, mass=10.0 u, σ=0.3 nm, ϵ=0.2 kJ mol⁻¹\n",
       " Atom with index 1, charge=0.0, mass=10.0 u, σ=0.3 nm, ϵ=0.2 kJ mol⁻¹\n",
       " Atom with index 1, charge=0.0, mass=10.0 u, σ=0.3 nm, ϵ=0.2 kJ mol⁻¹\n",
       " Atom with index 1, charge=0.0, mass=10.0 u, σ=0.3 nm, ϵ=0.2 kJ mol⁻¹\n",
       " ⋮\n",
       " Atom with index 1, charge=0.0, mass=10.0 u, σ=0.3 nm, ϵ=0.2 kJ mol⁻¹\n",
       " Atom with index 1, charge=0.0, mass=10.0 u, σ=0.3 nm, ϵ=0.2 kJ mol⁻¹\n",
       " Atom with index 1, charge=0.0, mass=10.0 u, σ=0.3 nm, ϵ=0.2 kJ mol⁻¹\n",
       " Atom with index 1, charge=0.0, mass=10.0 u, σ=0.3 nm, ϵ=0.2 kJ mol⁻¹\n",
       " Atom with index 1, charge=0.0, mass=10.0 u, σ=0.3 nm, ϵ=0.2 kJ mol⁻¹\n",
       " Atom with index 1, charge=0.0, mass=10.0 u, σ=0.3 nm, ϵ=0.2 kJ mol⁻¹\n",
       " Atom with index 1, charge=0.0, mass=10.0 u, σ=0.3 nm, ϵ=0.2 kJ mol⁻¹\n",
       " Atom with index 1, charge=0.0, mass=10.0 u, σ=0.3 nm, ϵ=0.2 kJ mol⁻¹\n",
       " Atom with index 1, charge=0.0, mass=10.0 u, σ=0.3 nm, ϵ=0.2 kJ mol⁻¹"
      ]
     },
     "metadata": {},
     "output_type": "display_data"
    }
   ],
   "source": [
    "atoms = [Atom(mass=atom_mass, σ=0.3u\"nm\", ϵ=0.2u\"kJ * mol^-1\") for i in 1:n_atoms]"
   ]
  },
  {
   "cell_type": "markdown",
   "metadata": {},
   "source": [
    "> the units are re-exported using Unitful.jl. Let's take a look at the syntax."
   ]
  },
  {
   "cell_type": "code",
   "execution_count": 21,
   "metadata": {},
   "outputs": [
    {
     "name": "stderr",
     "output_type": "stream",
     "text": [
      "\u001b[32m\u001b[1m   Resolving\u001b[22m\u001b[39m package versions...\n",
      "\u001b[32m\u001b[1m  No Changes\u001b[22m\u001b[39m to `~/.julia/environments/v1.8/Project.toml`\n",
      "\u001b[32m\u001b[1m  No Changes\u001b[22m\u001b[39m to `~/.julia/environments/v1.8/Manifest.toml`\n"
     ]
    }
   ],
   "source": [
    "Pkg.add(\"Unitful\")"
   ]
  },
  {
   "cell_type": "code",
   "execution_count": 9,
   "metadata": {},
   "outputs": [],
   "source": [
    "using Unitful"
   ]
  },
  {
   "cell_type": "code",
   "execution_count": 10,
   "metadata": {},
   "outputs": [],
   "source": [
    "### bla bla bla"
   ]
  },
  {
   "cell_type": "code",
   "execution_count": 11,
   "metadata": {},
   "outputs": [
    {
     "name": "stderr",
     "output_type": "stream",
     "text": [
      "\u001b[32m\u001b[1m   Resolving\u001b[22m\u001b[39m package versions...\n",
      "\u001b[32m\u001b[1m  No Changes\u001b[22m\u001b[39m to `~/.julia/environments/v1.8/Project.toml`\n",
      "\u001b[32m\u001b[1m  No Changes\u001b[22m\u001b[39m to `~/.julia/environments/v1.8/Manifest.toml`\n"
     ]
    }
   ],
   "source": [
    "Pkg.add(\"AtomsBase\")"
   ]
  },
  {
   "cell_type": "code",
   "execution_count": 20,
   "metadata": {},
   "outputs": [
    {
     "data": {
      "text/plain": [
       "\"sim_planets.mp4\""
      ]
     },
     "metadata": {},
     "output_type": "display_data"
    }
   ],
   "source": [
    "using GLMakie\n",
    "\n",
    "# Using get_body_barycentric_posvel from Astropy\n",
    "coords = [\n",
    "    SVector(-1336052.8665050615,  294465.0896030796 ,  158690.88781384667)u\"km\",\n",
    "    SVector(-58249418.70233503 , -26940630.286818042, -8491250.752464907 )u\"km\",\n",
    "    SVector( 58624128.321813114, -81162437.2641475  , -40287143.05760552 )u\"km\",\n",
    "    SVector(-99397467.7302648  , -105119583.06486066, -45537506.29775053 )u\"km\",\n",
    "    SVector( 131714235.34070954, -144249196.60814604, -69730238.5084304  )u\"km\",\n",
    "]\n",
    "\n",
    "velocities = [\n",
    "    SVector(-303.86327859262457, -1229.6540090943934, -513.791218405548  )u\"km * d^-1\",\n",
    "    SVector( 1012486.9596885007, -3134222.279236384 , -1779128.5093088674)u\"km * d^-1\",\n",
    "    SVector( 2504563.6403826815,  1567163.5923297722,  546718.234192132  )u\"km * d^-1\",\n",
    "    SVector( 1915792.9709661514, -1542400.0057833872, -668579.962254351  )u\"km * d^-1\",\n",
    "    SVector( 1690083.43357355  ,  1393597.7855017239,  593655.0037930267 )u\"km * d^-1\",\n",
    "]\n",
    "\n",
    "body_masses = [\n",
    "    1.989e30u\"kg\",\n",
    "    0.330e24u\"kg\",\n",
    "    4.87e24u\"kg\" ,\n",
    "    5.97e24u\"kg\" ,\n",
    "    0.642e24u\"kg\",\n",
    "]\n",
    "\n",
    "boundary = CubicBoundary(1e9u\"km\", 1e9u\"km\", 1e9u\"km\")\n",
    "\n",
    "# Convert the gravitational constant to the appropriate units\n",
    "inter = Gravity(G=convert(typeof(1.0u\"km^3 * kg^-1 * d^-2\"), Unitful.G))\n",
    "\n",
    "sys = System(\n",
    "    atoms=[Atom(mass=m) for m in body_masses],\n",
    "    pairwise_inters=(inter,),\n",
    "    coords=coords .+ (SVector(5e8, 5e8, 5e8)u\"km\",),\n",
    "    velocities=velocities,\n",
    "    boundary=boundary,\n",
    "    loggers=(coords=CoordinateLogger(typeof(1.0u\"km\"), 10),),\n",
    "    force_units=u\"kg * km * d^-2\",\n",
    "    energy_units=u\"kg * km^2 * d^-2\",\n",
    ")\n",
    "\n",
    "simulator = Verlet(\n",
    "    dt=0.1u\"d\",\n",
    "    remove_CM_motion=false,\n",
    ")\n",
    "\n",
    "simulate!(sys, simulator, 3650) # 1 year\n",
    "\n",
    "visualize(\n",
    "    sys.loggers.coords,\n",
    "    boundary,\n",
    "    \"sim_planets.mp4\";\n",
    "    trails=5,\n",
    "    color=[:yellow, :grey, :orange, :blue, :red],\n",
    "    markersize=[0.25, 0.08, 0.08, 0.08, 0.08],\n",
    "    transparency=false,\n",
    ")\n"
   ]
  },
  {
   "cell_type": "code",
   "execution_count": null,
   "metadata": {},
   "outputs": [],
   "source": []
  }
 ],
 "metadata": {
  "kernelspec": {
   "display_name": "Julia 1.8.1",
   "language": "julia",
   "name": "julia-1.8"
  },
  "language_info": {
   "file_extension": ".jl",
   "mimetype": "application/julia",
   "name": "julia",
   "version": "1.8.1"
  },
  "orig_nbformat": 4
 },
 "nbformat": 4,
 "nbformat_minor": 2
}
