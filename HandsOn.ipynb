{
 "cells": [
  {
   "cell_type": "markdown",
   "metadata": {},
   "source": [
    "# **Julia** workshop"
   ]
  },
  {
   "cell_type": "markdown",
   "metadata": {},
   "source": [
    "![](JuliaLogo.jpeg)"
   ]
  },
  {
   "cell_type": "markdown",
   "metadata": {},
   "source": [
    "# Level of this workshop: **Beginner**\n",
    "\n",
    "# __(You are all welcome to work together, learn)__"
   ]
  },
  {
   "cell_type": "markdown",
   "metadata": {},
   "source": [
    "> ## In this workshop, you will see:\n",
    "\n",
    "- ### a brief background of Julia Language\n",
    "- ### what are the advantages implemented in Julia\n",
    "- ### how the julia community works\n",
    "- ### some applications in chemistry\n",
    "- ### some applications in machine learning\n",
    "- ### a brief and fun hands-on"
   ]
  },
  {
   "cell_type": "markdown",
   "metadata": {},
   "source": [
    "### The objective of this workshop is **not** to make you an expert in Julia, but to inspire you starting applying julia in your projects, studies or research!"
   ]
  },
  {
   "cell_type": "markdown",
   "metadata": {},
   "source": [
    "![](JuliaHistory.png)"
   ]
  },
  {
   "cell_type": "markdown",
   "metadata": {},
   "source": [
    "### Julia language is a compiled programming language released in 2012!"
   ]
  },
  {
   "cell_type": "code",
   "execution_count": null,
   "metadata": {},
   "outputs": [],
   "source": [
    "## **Curious fact** Why the programming language is called Julia"
   ]
  },
  {
   "cell_type": "markdown",
   "metadata": {},
   "source": [
    "## 1. How to use libraries in Julia"
   ]
  },
  {
   "cell_type": "markdown",
   "metadata": {},
   "source": [
    "#### 1. Use **Pkg** manager"
   ]
  },
  {
   "cell_type": "code",
   "execution_count": 28,
   "metadata": {},
   "outputs": [],
   "source": [
    "using Pkg"
   ]
  },
  {
   "cell_type": "markdown",
   "metadata": {},
   "source": [
    "##### 1.1. **Extra topic**: Let's learn how to use Pkg on REPL (Read-Eval-Print Loop)"
   ]
  },
  {
   "cell_type": "code",
   "execution_count": 29,
   "metadata": {},
   "outputs": [
    {
     "name": "stderr",
     "output_type": "stream",
     "text": [
      "\u001b[32m\u001b[1m   Resolving\u001b[22m\u001b[39m package versions...\n",
      "\u001b[32m\u001b[1m  No Changes\u001b[22m\u001b[39m to `~/.julia/environments/v1.8/Project.toml`\n",
      "\u001b[32m\u001b[1m  No Changes\u001b[22m\u001b[39m to `~/.julia/environments/v1.8/Manifest.toml`\n"
     ]
    }
   ],
   "source": [
    "Pkg.add(\"Molly\")"
   ]
  },
  {
   "cell_type": "code",
   "execution_count": null,
   "metadata": {},
   "outputs": [],
   "source": []
  },
  {
   "cell_type": "markdown",
   "metadata": {},
   "source": [
    "## 2. Our **first simulation**"
   ]
  },
  {
   "cell_type": "markdown",
   "metadata": {},
   "source": [
    "> Here we have a fluid acting under the Lennard-Jones potential to start with."
   ]
  },
  {
   "cell_type": "code",
   "execution_count": 30,
   "metadata": {},
   "outputs": [],
   "source": [
    "using Molly"
   ]
  },
  {
   "cell_type": "markdown",
   "metadata": {},
   "source": [
    "#### 2.1. Using **100 atoms**"
   ]
  },
  {
   "cell_type": "code",
   "execution_count": 31,
   "metadata": {},
   "outputs": [
    {
     "data": {
      "text/plain": [
       "100"
      ]
     },
     "metadata": {},
     "output_type": "display_data"
    }
   ],
   "source": [
    "n_atoms = 100 #(this is the number of atoms)"
   ]
  },
  {
   "cell_type": "code",
   "execution_count": 32,
   "metadata": {},
   "outputs": [
    {
     "data": {
      "text/plain": [
       "10.0 u"
      ]
     },
     "metadata": {},
     "output_type": "display_data"
    }
   ],
   "source": [
    "atom_mass = 10.0u\"u\""
   ]
  },
  {
   "cell_type": "code",
   "execution_count": 33,
   "metadata": {},
   "outputs": [
    {
     "data": {
      "text/plain": [
       "100-element Vector{Atom{Float64, Quantity{Float64, 𝐌, Unitful.FreeUnits{(u,), 𝐌, nothing}}, Quantity{Float64, 𝐋, Unitful.FreeUnits{(nm,), 𝐋, nothing}}, Quantity{Float64, 𝐋² 𝐌 𝐍⁻¹ 𝐓⁻², Unitful.FreeUnits{(kJ, mol⁻¹), 𝐋² 𝐌 𝐍⁻¹ 𝐓⁻², nothing}}}}:\n",
       " Atom with index 1, charge=0.0, mass=10.0 u, σ=0.3 nm, ϵ=0.2 kJ mol⁻¹\n",
       " Atom with index 1, charge=0.0, mass=10.0 u, σ=0.3 nm, ϵ=0.2 kJ mol⁻¹\n",
       " Atom with index 1, charge=0.0, mass=10.0 u, σ=0.3 nm, ϵ=0.2 kJ mol⁻¹\n",
       " Atom with index 1, charge=0.0, mass=10.0 u, σ=0.3 nm, ϵ=0.2 kJ mol⁻¹\n",
       " Atom with index 1, charge=0.0, mass=10.0 u, σ=0.3 nm, ϵ=0.2 kJ mol⁻¹\n",
       " Atom with index 1, charge=0.0, mass=10.0 u, σ=0.3 nm, ϵ=0.2 kJ mol⁻¹\n",
       " Atom with index 1, charge=0.0, mass=10.0 u, σ=0.3 nm, ϵ=0.2 kJ mol⁻¹\n",
       " Atom with index 1, charge=0.0, mass=10.0 u, σ=0.3 nm, ϵ=0.2 kJ mol⁻¹\n",
       " Atom with index 1, charge=0.0, mass=10.0 u, σ=0.3 nm, ϵ=0.2 kJ mol⁻¹\n",
       " Atom with index 1, charge=0.0, mass=10.0 u, σ=0.3 nm, ϵ=0.2 kJ mol⁻¹\n",
       " ⋮\n",
       " Atom with index 1, charge=0.0, mass=10.0 u, σ=0.3 nm, ϵ=0.2 kJ mol⁻¹\n",
       " Atom with index 1, charge=0.0, mass=10.0 u, σ=0.3 nm, ϵ=0.2 kJ mol⁻¹\n",
       " Atom with index 1, charge=0.0, mass=10.0 u, σ=0.3 nm, ϵ=0.2 kJ mol⁻¹\n",
       " Atom with index 1, charge=0.0, mass=10.0 u, σ=0.3 nm, ϵ=0.2 kJ mol⁻¹\n",
       " Atom with index 1, charge=0.0, mass=10.0 u, σ=0.3 nm, ϵ=0.2 kJ mol⁻¹\n",
       " Atom with index 1, charge=0.0, mass=10.0 u, σ=0.3 nm, ϵ=0.2 kJ mol⁻¹\n",
       " Atom with index 1, charge=0.0, mass=10.0 u, σ=0.3 nm, ϵ=0.2 kJ mol⁻¹\n",
       " Atom with index 1, charge=0.0, mass=10.0 u, σ=0.3 nm, ϵ=0.2 kJ mol⁻¹\n",
       " Atom with index 1, charge=0.0, mass=10.0 u, σ=0.3 nm, ϵ=0.2 kJ mol⁻¹"
      ]
     },
     "metadata": {},
     "output_type": "display_data"
    }
   ],
   "source": [
    "atoms = [Atom(mass=atom_mass, σ=0.3u\"nm\", ϵ=0.2u\"kJ * mol^-1\") for i in 1:n_atoms]"
   ]
  },
  {
   "cell_type": "markdown",
   "metadata": {},
   "source": [
    "> the units are re-exported using Unitful.jl. Let's take a look at the syntax."
   ]
  },
  {
   "cell_type": "code",
   "execution_count": 34,
   "metadata": {},
   "outputs": [
    {
     "name": "stderr",
     "output_type": "stream",
     "text": [
      "\u001b[32m\u001b[1m   Resolving\u001b[22m\u001b[39m package versions...\n",
      "\u001b[32m\u001b[1m  No Changes\u001b[22m\u001b[39m to `~/.julia/environments/v1.8/Project.toml`\n",
      "\u001b[32m\u001b[1m  No Changes\u001b[22m\u001b[39m to `~/.julia/environments/v1.8/Manifest.toml`\n"
     ]
    }
   ],
   "source": [
    "Pkg.add(\"Unitful\")"
   ]
  },
  {
   "cell_type": "code",
   "execution_count": 35,
   "metadata": {},
   "outputs": [],
   "source": [
    "using Unitful"
   ]
  },
  {
   "cell_type": "code",
   "execution_count": 36,
   "metadata": {},
   "outputs": [],
   "source": [
    "### bla bla bla"
   ]
  },
  {
   "cell_type": "code",
   "execution_count": 37,
   "metadata": {},
   "outputs": [
    {
     "name": "stderr",
     "output_type": "stream",
     "text": [
      "\u001b[32m\u001b[1m   Resolving\u001b[22m\u001b[39m package versions...\n",
      "\u001b[32m\u001b[1m  No Changes\u001b[22m\u001b[39m to `~/.julia/environments/v1.8/Project.toml`\n",
      "\u001b[32m\u001b[1m  No Changes\u001b[22m\u001b[39m to `~/.julia/environments/v1.8/Manifest.toml`\n"
     ]
    }
   ],
   "source": [
    "Pkg.add(\"AtomsBase\")"
   ]
  },
  {
   "cell_type": "code",
   "execution_count": 38,
   "metadata": {},
   "outputs": [
    {
     "data": {
      "text/plain": [
       "System with 2 atoms, boundary RectangularBoundary{Float32}(Float32[1.0, 1.0])"
      ]
     },
     "metadata": {},
     "output_type": "display_data"
    }
   ],
   "source": [
    "atoms = [Atom(mass=1.0f0), Atom(mass=1.0f0)]\n",
    "coords = [SVector(0.3f0, 0.5f0), SVector(0.7f0, 0.5f0)]\n",
    "velocities = [SVector(0.0f0, 1.0f0), SVector(0.0f0, -1.0f0)]\n",
    "pairwise_inters = (Gravity(nl_only=false, G=1.5f0),)\n",
    "simulator = VelocityVerlet(dt=0.002f0)\n",
    "boundary = RectangularBoundary(1.0f0, 1.0f0)\n",
    "\n",
    "sys = System(\n",
    "    atoms=atoms,\n",
    "    pairwise_inters=pairwise_inters,\n",
    "    coords=coords,\n",
    "    velocities=velocities,\n",
    "    boundary=boundary,\n",
    "    loggers=(coords=CoordinateLogger(Float32, 10; dims=2),),\n",
    "    force_units=NoUnits,\n",
    "    energy_units=NoUnits,\n",
    ")\n",
    "\n",
    "simulate!(sys, simulator, 2_000)"
   ]
  },
  {
   "cell_type": "code",
   "execution_count": 39,
   "metadata": {},
   "outputs": [
    {
     "data": {
      "text/plain": [
       "\"sim_gravity.mp4\""
      ]
     },
     "metadata": {},
     "output_type": "display_data"
    }
   ],
   "source": [
    "visualize(\n",
    "    sys.loggers.coords,\n",
    "    boundary,\n",
    "    \"sim_gravity.mp4\";\n",
    "    trails=4,\n",
    "    framerate=15,\n",
    "    color=[:orange, :lightgreen],\n",
    ")"
   ]
  },
  {
   "cell_type": "markdown",
   "metadata": {},
   "source": [
    "#### Variations of the Morse potential"
   ]
  },
  {
   "cell_type": "code",
   "execution_count": 40,
   "metadata": {},
   "outputs": [
    {
     "ename": "UndefKeywordError",
     "evalue": "UndefKeywordError: keyword argument b0 not assigned",
     "output_type": "error",
     "traceback": [
      "UndefKeywordError: keyword argument b0 not assigned\n",
      "\n",
      "Stacktrace:\n",
      " [1] top-level scope\n",
      "   @ ~/RIIA_workshop/HandsOn.ipynb:22"
     ]
    }
   ],
   "source": [
    "using Molly\n",
    "using GLMakie\n",
    "\n",
    "boundary = CubicBoundary(5.0, 5.0, 5.0)\n",
    "dists = collect(0.12:0.005:2.0)\n",
    "\n",
    "function energies(inter)\n",
    "    return map(dists) do dist\n",
    "        c1 = SVector(1.0, 1.0, 1.0)\n",
    "        c2 = SVector(dist + 1.0, 1.0, 1.0)\n",
    "        potential_energy(inter, c1, c2, boundary)\n",
    "    end\n",
    "end\n",
    "\n",
    "f = Figure(resolution=(600, 400))\n",
    "ax = Axis(\n",
    "    f[1, 1],\n",
    "    xlabel=\"Distance / nm\",\n",
    "    ylabel=\"Potential energy / kJ * mol^-1\",\n",
    "    title=\"Variations of the Morse potential\",\n",
    ")\n",
    "lines!(\n",
    "    ax,\n",
    "    dists,\n",
    "    energies(HarmonicBond(k=20_000.0, r0=0.2)),\n",
    "    label=\"Harmonic\",\n",
    ")\n",
    "for a in [2.5, 5.0, 10.0]\n",
    "    lines!(\n",
    "        ax,\n",
    "        dists,\n",
    "        energies(MorseBond(D=100.0, a=a, r0=0.2)),\n",
    "        label=\"Morse a=$a nm^-1\",\n",
    "    )\n",
    "end\n",
    "ylims!(ax, 0.0, 120.0)\n",
    "axislegend(position=:rb)\n",
    "save(\"morse.png\", f)"
   ]
  },
  {
   "cell_type": "markdown",
   "metadata": {},
   "source": [
    "### A **fun topic**: simulating the solar system"
   ]
  },
  {
   "cell_type": "code",
   "execution_count": 41,
   "metadata": {},
   "outputs": [
    {
     "data": {
      "text/plain": [
       "\"sim_planets.mp4\""
      ]
     },
     "metadata": {},
     "output_type": "display_data"
    }
   ],
   "source": [
    "using GLMakie\n",
    "\n",
    "# Using get_body_barycentric_posvel from Astropy\n",
    "coords = [\n",
    "    SVector(-1336052.8665050615,  294465.0896030796 ,  158690.88781384667)u\"km\",\n",
    "    SVector(-58249418.70233503 , -26940630.286818042, -8491250.752464907 )u\"km\",\n",
    "    SVector( 58624128.321813114, -81162437.2641475  , -40287143.05760552 )u\"km\",\n",
    "    SVector(-99397467.7302648  , -105119583.06486066, -45537506.29775053 )u\"km\",\n",
    "    SVector( 131714235.34070954, -144249196.60814604, -69730238.5084304  )u\"km\",\n",
    "]\n",
    "\n",
    "velocities = [\n",
    "    SVector(-303.86327859262457, -1229.6540090943934, -513.791218405548  )u\"km * d^-1\",\n",
    "    SVector( 1012486.9596885007, -3134222.279236384 , -1779128.5093088674)u\"km * d^-1\",\n",
    "    SVector( 2504563.6403826815,  1567163.5923297722,  546718.234192132  )u\"km * d^-1\",\n",
    "    SVector( 1915792.9709661514, -1542400.0057833872, -668579.962254351  )u\"km * d^-1\",\n",
    "    SVector( 1690083.43357355  ,  1393597.7855017239,  593655.0037930267 )u\"km * d^-1\",\n",
    "]\n",
    "\n",
    "body_masses = [\n",
    "    1.989e30u\"kg\",\n",
    "    0.330e24u\"kg\",\n",
    "    4.87e24u\"kg\" ,\n",
    "    5.97e24u\"kg\" ,\n",
    "    0.642e24u\"kg\",\n",
    "]\n",
    "\n",
    "boundary = CubicBoundary(1e9u\"km\", 1e9u\"km\", 1e9u\"km\")\n",
    "\n",
    "# Convert the gravitational constant to the appropriate units\n",
    "inter = Gravity(G=convert(typeof(1.0u\"km^3 * kg^-1 * d^-2\"), Unitful.G))\n",
    "\n",
    "sys = System(\n",
    "    atoms=[Atom(mass=m) for m in body_masses],\n",
    "    pairwise_inters=(inter,),\n",
    "    coords=coords .+ (SVector(5e8, 5e8, 5e8)u\"km\",),\n",
    "    velocities=velocities,\n",
    "    boundary=boundary,\n",
    "    loggers=(coords=CoordinateLogger(typeof(1.0u\"km\"), 10),),\n",
    "    force_units=u\"kg * km * d^-2\",\n",
    "    energy_units=u\"kg * km^2 * d^-2\",\n",
    ")\n",
    "\n",
    "simulator = Verlet(\n",
    "    dt=0.1u\"d\",\n",
    "    remove_CM_motion=false,\n",
    ")\n",
    "\n",
    "simulate!(sys, simulator, 3650) # 1 year\n",
    "\n",
    "visualize(\n",
    "    sys.loggers.coords,\n",
    "    boundary,\n",
    "    \"sim_planets.mp4\";\n",
    "    trails=5,\n",
    "    color=[:yellow, :grey, :orange, :blue, :red],\n",
    "    markersize=[0.25, 0.08, 0.08, 0.08, 0.08],\n",
    "    transparency=false,\n",
    ")\n"
   ]
  },
  {
   "cell_type": "code",
   "execution_count": 42,
   "metadata": {},
   "outputs": [
    {
     "ename": "MethodError",
     "evalue": "MethodError: no method matching place_atoms(::Int64, ::RectangularBoundary{Float64}; min_dist=0.1)\nClosest candidates are:\n  place_atoms(::Integer, ::Any, !Matched::Any; max_attempts) at ~/.julia/packages/Molly/RD5GY/src/setup.jl:22 got unsupported keyword argument \"min_dist\"",
     "output_type": "error",
     "traceback": [
      "MethodError: no method matching place_atoms(::Int64, ::RectangularBoundary{Float64}; min_dist=0.1)\n",
      "Closest candidates are:\n",
      "  place_atoms(::Integer, ::Any, !Matched::Any; max_attempts) at ~/.julia/packages/Molly/RD5GY/src/setup.jl:22 got unsupported keyword argument \"min_dist\"\n",
      "\n",
      "Stacktrace:\n",
      " [1] top-level scope\n",
      "   @ ~/RIIA_workshop/HandsOn.ipynb:70"
     ]
    }
   ],
   "source": [
    "using Molly\n",
    "using GLMakie\n",
    "using LinearAlgebra\n",
    "\n",
    "struct BondableAtom\n",
    "    i::Int\n",
    "    mass::Float64\n",
    "    σ::Float64\n",
    "    ϵ::Float64\n",
    "    partners::Set{Int}\n",
    "end\n",
    "\n",
    "Molly.mass(ba::BondableAtom) = ba.mass\n",
    "\n",
    "struct BondableInteraction <: PairwiseInteraction\n",
    "    nl_only::Bool\n",
    "    prob_formation::Float64\n",
    "    prob_break::Float64\n",
    "    dist_formation::Float64\n",
    "    k::Float64\n",
    "    r0::Float64\n",
    "end\n",
    "\n",
    "function Molly.force(inter::BondableInteraction,\n",
    "                        dr,\n",
    "                        coord_i,\n",
    "                        coord_j,\n",
    "                        atom_i,\n",
    "                        atom_j,\n",
    "                        boundary)\n",
    "    # Break bonds randomly\n",
    "    if atom_j.i in atom_i.partners && rand() < inter.prob_break\n",
    "        delete!(atom_i.partners, atom_j.i)\n",
    "        delete!(atom_j.partners, atom_i.i)\n",
    "    end\n",
    "    # Make bonds between close atoms randomly\n",
    "    r2 = sum(abs2, dr)\n",
    "    if r2 < inter.r0 * inter.dist_formation && rand() < inter.prob_formation\n",
    "        push!(atom_i.partners, atom_j.i)\n",
    "        push!(atom_j.partners, atom_i.i)\n",
    "    end\n",
    "    # Apply the force of a harmonic bond\n",
    "    if atom_j.i in atom_i.partners\n",
    "        c = inter.k * (norm(dr) - inter.r0)\n",
    "        fdr = -c * normalize(dr)\n",
    "        return fdr\n",
    "    else\n",
    "        return zero(coord_i)\n",
    "    end\n",
    "end\n",
    "\n",
    "function bonds(sys::System, neighbors=nothing, n_threads::Integer=Threads.nthreads())\n",
    "    bonds = BitVector()\n",
    "    for i in 1:length(sys)\n",
    "        for j in 1:(i - 1)\n",
    "            push!(bonds, j in sys.atoms[i].partners)\n",
    "        end\n",
    "    end\n",
    "    return bonds\n",
    "end\n",
    "\n",
    "BondLogger(n_steps) = GeneralObservableLogger(bonds, BitVector, n_steps)\n",
    "\n",
    "n_atoms = 200\n",
    "boundary = RectangularBoundary(10.0, 10.0)\n",
    "n_steps = 2_000\n",
    "temp = 1.0\n",
    "\n",
    "atoms = [BondableAtom(i, 1.0, 0.1, 0.02, Set([])) for i in 1:n_atoms]\n",
    "coords = place_atoms(n_atoms, boundary, min_dist=0.1)\n",
    "velocities = [velocity(1.0, temp; dims=2) for i in 1:n_atoms]\n",
    "pairwise_inters = (\n",
    "    SoftSphere(nl_only=true),\n",
    "    BondableInteraction(true, 0.1, 0.1, 1.1, 2.0, 0.1),\n",
    ")\n",
    "neighbor_finder = DistanceNeighborFinder(\n",
    "    nb_matrix=trues(n_atoms, n_atoms),\n",
    "    n_steps=10,\n",
    "    dist_cutoff=2.0,\n",
    ")\n",
    "simulator = VelocityVerlet(\n",
    "    dt=0.02,\n",
    "    coupling=AndersenThermostat(temp, 5.0),\n",
    ")\n",
    "\n",
    "sys = System(\n",
    "    atoms=atoms,\n",
    "    pairwise_inters=pairwise_inters,\n",
    "    coords=coords,\n",
    "    velocities=velocities,\n",
    "    boundary=boundary,\n",
    "    neighbor_finder=neighbor_finder,\n",
    "    loggers=(\n",
    "        coords=CoordinateLogger(Float64, 20; dims=2),\n",
    "        bonds=BondLogger(20),\n",
    "    ),\n",
    "    force_units=NoUnits,\n",
    "    energy_units=NoUnits,\n",
    ")\n",
    "\n",
    "simulate!(sys, simulator, n_steps)\n",
    "\n",
    "connections = Tuple{Int, Int}[]\n",
    "for i in 1:length(sys)\n",
    "    for j in 1:(i - 1)\n",
    "        push!(connections, (i, j))\n",
    "    end\n",
    "end\n",
    "\n",
    "visualize(\n",
    "    sys.loggers.coords,\n",
    "    boundary,\n",
    "    \"sim_mutbond.mp4\";\n",
    "    connections=connections,\n",
    "    connection_frames=values(sys.loggers.bonds),\n",
    "    markersize=0.1,\n",
    ")"
   ]
  }
 ],
 "metadata": {
  "kernelspec": {
   "display_name": "Julia 1.8.1",
   "language": "julia",
   "name": "julia-1.8"
  },
  "language_info": {
   "file_extension": ".jl",
   "mimetype": "application/julia",
   "name": "julia",
   "version": "1.8.1"
  },
  "orig_nbformat": 4
 },
 "nbformat": 4,
 "nbformat_minor": 2
}
